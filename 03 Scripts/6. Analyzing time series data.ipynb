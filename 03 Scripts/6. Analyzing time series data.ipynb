{
 "cells": [
  {
   "cell_type": "markdown",
   "id": "4b6f4115-af3a-4290-b6a0-3450dd32fe75",
   "metadata": {},
   "source": [
    "## 6. Analyzing time series data"
   ]
  },
  {
   "cell_type": "markdown",
   "id": "762dcdfe-2c2d-4bfc-bc9d-5e45d7268baf",
   "metadata": {},
   "source": [
    "### 1. Importing libraries"
   ]
  },
  {
   "cell_type": "markdown",
   "id": "64872ab4-73ba-4c88-91ea-8071c40e2a30",
   "metadata": {},
   "source": [
    "### 2. Importing data"
   ]
  },
  {
   "cell_type": "markdown",
   "id": "4c1e5b38-39aa-4205-9511-d81da2014b1f",
   "metadata": {},
   "source": [
    "### 3. Data cleaning"
   ]
  },
  {
   "cell_type": "markdown",
   "id": "67564a44-8585-40fc-b8d3-b6bff74ea96b",
   "metadata": {},
   "source": [
    "### 4. Decomposition"
   ]
  },
  {
   "cell_type": "markdown",
   "id": "08eb93b9-2070-4a64-a9f2-87b605d24fd1",
   "metadata": {},
   "source": [
    "### 5. Dickey-Fuller test for stationarity"
   ]
  },
  {
   "cell_type": "markdown",
   "id": "b340269f-35fc-4e13-8329-bc2ef16c192d",
   "metadata": {},
   "source": [
    "### 6. Differencing to stationarize data"
   ]
  },
  {
   "cell_type": "markdown",
   "id": "84702528-1260-471d-abed-6930720c4040",
   "metadata": {},
   "source": [
    "### 7. Checking for autocorrelations"
   ]
  },
  {
   "cell_type": "markdown",
   "id": "7ce27304-3fab-481d-b5ba-7b6a220b0f59",
   "metadata": {},
   "source": [
    "#### 1. Importing libraries"
   ]
  },
  {
   "cell_type": "code",
   "execution_count": 6,
   "id": "67c39bb0-c803-41d9-ba7c-1a63cda9f123",
   "metadata": {},
   "outputs": [],
   "source": [
    "# Importing libaries\n",
    "import pandas as pd\n",
    "import numpy as np\n",
    "import seaborn as sns\n",
    "import matplotlib\n",
    "import matplotlib.pyplot as plt\n",
    "import statsmodels.api as sm\n",
    "import os\n",
    "import warnings\n",
    "\n",
    "warnings.filterwarnings(\"ignore\")\n",
    "\n",
    "plt.style.use('fivethirtyeight')"
   ]
  },
  {
   "cell_type": "markdown",
   "id": "723d2642-1dbc-4770-96c5-f05f06c53fe5",
   "metadata": {},
   "source": [
    "#### 2. Importing data"
   ]
  },
  {
   "cell_type": "code",
   "execution_count": 8,
   "id": "235d4a5e-5042-4d70-aed4-6ffd67c88b24",
   "metadata": {},
   "outputs": [],
   "source": [
    "path = r'C:\\Users\\Priya\\OneDrive\\Documents\\CareerFoundry\\Data Immersion\\Achievement 6\\Greenhouse Gas Emissions Analysis'"
   ]
  },
  {
   "cell_type": "code",
   "execution_count": 9,
   "id": "d057e2c8-1b85-4f2e-99db-2e7a1d3e064d",
   "metadata": {},
   "outputs": [
    {
     "data": {
      "text/plain": [
       "'C:\\\\Users\\\\Priya\\\\OneDrive\\\\Documents\\\\CareerFoundry\\\\Data Immersion\\\\Achievement 6\\\\Greenhouse Gas Emissions Analysis'"
      ]
     },
     "execution_count": 9,
     "metadata": {},
     "output_type": "execute_result"
    }
   ],
   "source": [
    "path"
   ]
  },
  {
   "cell_type": "code",
   "execution_count": 10,
   "id": "228be3ce-e95f-47df-b3c4-dc7fb8d6e675",
   "metadata": {},
   "outputs": [],
   "source": [
    "# Importing the greenhouse gas emissions dataset\n",
    "df = pd.read_csv(os.path.join(path, '02 Data', 'Prepared Data', 'emissions-cleaned.csv'), index_col = False)"
   ]
  },
  {
   "cell_type": "markdown",
   "id": "1c2809ef-a0af-4ce7-a58b-66f20209642c",
   "metadata": {},
   "source": [
    "Contains public sector information licensed under the Open Government Licence v3.0. License: https://www.nationalarchives.gov.uk/doc/open-government-licence/version/3/"
   ]
  },
  {
   "cell_type": "markdown",
   "id": "e9e090ef-6d8c-4f73-8cef-025e36ee324f",
   "metadata": {},
   "source": [
    "#### 3. Data cleaning"
   ]
  },
  {
   "cell_type": "code",
   "execution_count": 13,
   "id": "752e267d-aafd-4ff2-bf06-e764e5c19973",
   "metadata": {},
   "outputs": [
    {
     "data": {
      "text/plain": [
       "(533016, 16)"
      ]
     },
     "execution_count": 13,
     "metadata": {},
     "output_type": "execute_result"
    }
   ],
   "source": [
    "# Checking the shape of the dataframe\n",
    "df.shape"
   ]
  },
  {
   "cell_type": "code",
   "execution_count": 14,
   "id": "0ebcf4f0-c880-4d90-a434-484f34e10296",
   "metadata": {},
   "outputs": [
    {
     "data": {
      "text/html": [
       "<div>\n",
       "<style scoped>\n",
       "    .dataframe tbody tr th:only-of-type {\n",
       "        vertical-align: middle;\n",
       "    }\n",
       "\n",
       "    .dataframe tbody tr th {\n",
       "        vertical-align: top;\n",
       "    }\n",
       "\n",
       "    .dataframe thead th {\n",
       "        text-align: right;\n",
       "    }\n",
       "</style>\n",
       "<table border=\"1\" class=\"dataframe\">\n",
       "  <thead>\n",
       "    <tr style=\"text-align: right;\">\n",
       "      <th></th>\n",
       "      <th>Unnamed: 0</th>\n",
       "      <th>Country</th>\n",
       "      <th>Country Code</th>\n",
       "      <th>Region</th>\n",
       "      <th>Region Code</th>\n",
       "      <th>Second Tier Authority</th>\n",
       "      <th>Local Authority</th>\n",
       "      <th>Local Authority Code</th>\n",
       "      <th>Calendar Year</th>\n",
       "      <th>LA GHG Sector</th>\n",
       "      <th>LA GHG Sub-sector</th>\n",
       "      <th>Greenhouse gas</th>\n",
       "      <th>Territorial emissions (kt CO2e)</th>\n",
       "      <th>CO2 emissions within the scope of influence of LAs (kt CO2)</th>\n",
       "      <th>Mid-year Population (thousands)</th>\n",
       "      <th>Area (km2)</th>\n",
       "    </tr>\n",
       "  </thead>\n",
       "  <tbody>\n",
       "    <tr>\n",
       "      <th>0</th>\n",
       "      <td>0</td>\n",
       "      <td>England</td>\n",
       "      <td>E92000001</td>\n",
       "      <td>North East</td>\n",
       "      <td>E12000001</td>\n",
       "      <td>Hartlepool</td>\n",
       "      <td>Hartlepool</td>\n",
       "      <td>E06000001</td>\n",
       "      <td>2005</td>\n",
       "      <td>Agriculture</td>\n",
       "      <td>Agriculture Electricity</td>\n",
       "      <td>CO2</td>\n",
       "      <td>1.678178</td>\n",
       "      <td>1.678178</td>\n",
       "      <td>90.457</td>\n",
       "      <td>98.3466</td>\n",
       "    </tr>\n",
       "    <tr>\n",
       "      <th>1</th>\n",
       "      <td>1</td>\n",
       "      <td>England</td>\n",
       "      <td>E92000001</td>\n",
       "      <td>North East</td>\n",
       "      <td>E12000001</td>\n",
       "      <td>Hartlepool</td>\n",
       "      <td>Hartlepool</td>\n",
       "      <td>E06000001</td>\n",
       "      <td>2005</td>\n",
       "      <td>Agriculture</td>\n",
       "      <td>Agriculture Electricity</td>\n",
       "      <td>CH4</td>\n",
       "      <td>0.052700</td>\n",
       "      <td>0.000000</td>\n",
       "      <td>90.457</td>\n",
       "      <td>98.3466</td>\n",
       "    </tr>\n",
       "    <tr>\n",
       "      <th>2</th>\n",
       "      <td>2</td>\n",
       "      <td>England</td>\n",
       "      <td>E92000001</td>\n",
       "      <td>North East</td>\n",
       "      <td>E12000001</td>\n",
       "      <td>Hartlepool</td>\n",
       "      <td>Hartlepool</td>\n",
       "      <td>E06000001</td>\n",
       "      <td>2005</td>\n",
       "      <td>Agriculture</td>\n",
       "      <td>Agriculture Electricity</td>\n",
       "      <td>N2O</td>\n",
       "      <td>0.006770</td>\n",
       "      <td>0.000000</td>\n",
       "      <td>90.457</td>\n",
       "      <td>98.3466</td>\n",
       "    </tr>\n",
       "    <tr>\n",
       "      <th>3</th>\n",
       "      <td>3</td>\n",
       "      <td>England</td>\n",
       "      <td>E92000001</td>\n",
       "      <td>North East</td>\n",
       "      <td>E12000001</td>\n",
       "      <td>Hartlepool</td>\n",
       "      <td>Hartlepool</td>\n",
       "      <td>E06000001</td>\n",
       "      <td>2005</td>\n",
       "      <td>Agriculture</td>\n",
       "      <td>Agriculture Gas</td>\n",
       "      <td>CO2</td>\n",
       "      <td>0.311375</td>\n",
       "      <td>0.311375</td>\n",
       "      <td>90.457</td>\n",
       "      <td>98.3466</td>\n",
       "    </tr>\n",
       "    <tr>\n",
       "      <th>4</th>\n",
       "      <td>4</td>\n",
       "      <td>England</td>\n",
       "      <td>E92000001</td>\n",
       "      <td>North East</td>\n",
       "      <td>E12000001</td>\n",
       "      <td>Hartlepool</td>\n",
       "      <td>Hartlepool</td>\n",
       "      <td>E06000001</td>\n",
       "      <td>2005</td>\n",
       "      <td>Agriculture</td>\n",
       "      <td>Agriculture Gas</td>\n",
       "      <td>CH4</td>\n",
       "      <td>0.010500</td>\n",
       "      <td>0.000000</td>\n",
       "      <td>90.457</td>\n",
       "      <td>98.3466</td>\n",
       "    </tr>\n",
       "  </tbody>\n",
       "</table>\n",
       "</div>"
      ],
      "text/plain": [
       "   Unnamed: 0  Country Country Code      Region Region Code  \\\n",
       "0           0  England    E92000001  North East   E12000001   \n",
       "1           1  England    E92000001  North East   E12000001   \n",
       "2           2  England    E92000001  North East   E12000001   \n",
       "3           3  England    E92000001  North East   E12000001   \n",
       "4           4  England    E92000001  North East   E12000001   \n",
       "\n",
       "  Second Tier Authority Local Authority Local Authority Code  Calendar Year  \\\n",
       "0            Hartlepool      Hartlepool            E06000001           2005   \n",
       "1            Hartlepool      Hartlepool            E06000001           2005   \n",
       "2            Hartlepool      Hartlepool            E06000001           2005   \n",
       "3            Hartlepool      Hartlepool            E06000001           2005   \n",
       "4            Hartlepool      Hartlepool            E06000001           2005   \n",
       "\n",
       "  LA GHG Sector        LA GHG Sub-sector Greenhouse gas  \\\n",
       "0   Agriculture  Agriculture Electricity            CO2   \n",
       "1   Agriculture  Agriculture Electricity            CH4   \n",
       "2   Agriculture  Agriculture Electricity            N2O   \n",
       "3   Agriculture          Agriculture Gas            CO2   \n",
       "4   Agriculture          Agriculture Gas            CH4   \n",
       "\n",
       "   Territorial emissions (kt CO2e)  \\\n",
       "0                         1.678178   \n",
       "1                         0.052700   \n",
       "2                         0.006770   \n",
       "3                         0.311375   \n",
       "4                         0.010500   \n",
       "\n",
       "   CO2 emissions within the scope of influence of LAs (kt CO2)  \\\n",
       "0                                           1.678178             \n",
       "1                                           0.000000             \n",
       "2                                           0.000000             \n",
       "3                                           0.311375             \n",
       "4                                           0.000000             \n",
       "\n",
       "   Mid-year Population (thousands)  Area (km2)  \n",
       "0                           90.457     98.3466  \n",
       "1                           90.457     98.3466  \n",
       "2                           90.457     98.3466  \n",
       "3                           90.457     98.3466  \n",
       "4                           90.457     98.3466  "
      ]
     },
     "execution_count": 14,
     "metadata": {},
     "output_type": "execute_result"
    }
   ],
   "source": [
    "# Viewing the first five rows of the dataframe\n",
    "df.head()"
   ]
  },
  {
   "cell_type": "code",
   "execution_count": 15,
   "id": "bef90cce-7018-489e-89ca-4aaaf486631c",
   "metadata": {},
   "outputs": [],
   "source": [
    "# Dropping the Unnamed: 0 column\n",
    "df.drop('Unnamed: 0', axis=1, inplace = True)"
   ]
  },
  {
   "cell_type": "code",
   "execution_count": 16,
   "id": "dfc878df-20e9-4bb7-a048-59b37bff69e6",
   "metadata": {},
   "outputs": [
    {
     "data": {
      "text/plain": [
       "(533016, 15)"
      ]
     },
     "execution_count": 16,
     "metadata": {},
     "output_type": "execute_result"
    }
   ],
   "source": [
    "# Checking the shape of the dataframe\n",
    "df.shape"
   ]
  },
  {
   "cell_type": "code",
   "execution_count": 17,
   "id": "32aedd42-4b7b-49d7-93c8-e9eea8fd5e75",
   "metadata": {},
   "outputs": [
    {
     "data": {
      "text/html": [
       "<div>\n",
       "<style scoped>\n",
       "    .dataframe tbody tr th:only-of-type {\n",
       "        vertical-align: middle;\n",
       "    }\n",
       "\n",
       "    .dataframe tbody tr th {\n",
       "        vertical-align: top;\n",
       "    }\n",
       "\n",
       "    .dataframe thead th {\n",
       "        text-align: right;\n",
       "    }\n",
       "</style>\n",
       "<table border=\"1\" class=\"dataframe\">\n",
       "  <thead>\n",
       "    <tr style=\"text-align: right;\">\n",
       "      <th></th>\n",
       "      <th>Country</th>\n",
       "      <th>Country Code</th>\n",
       "      <th>Region</th>\n",
       "      <th>Region Code</th>\n",
       "      <th>Second Tier Authority</th>\n",
       "      <th>Local Authority</th>\n",
       "      <th>Local Authority Code</th>\n",
       "      <th>Calendar Year</th>\n",
       "      <th>LA GHG Sector</th>\n",
       "      <th>LA GHG Sub-sector</th>\n",
       "      <th>Greenhouse gas</th>\n",
       "      <th>Territorial emissions (kt CO2e)</th>\n",
       "      <th>CO2 emissions within the scope of influence of LAs (kt CO2)</th>\n",
       "      <th>Mid-year Population (thousands)</th>\n",
       "      <th>Area (km2)</th>\n",
       "    </tr>\n",
       "  </thead>\n",
       "  <tbody>\n",
       "    <tr>\n",
       "      <th>0</th>\n",
       "      <td>England</td>\n",
       "      <td>E92000001</td>\n",
       "      <td>North East</td>\n",
       "      <td>E12000001</td>\n",
       "      <td>Hartlepool</td>\n",
       "      <td>Hartlepool</td>\n",
       "      <td>E06000001</td>\n",
       "      <td>2005</td>\n",
       "      <td>Agriculture</td>\n",
       "      <td>Agriculture Electricity</td>\n",
       "      <td>CO2</td>\n",
       "      <td>1.678178</td>\n",
       "      <td>1.678178</td>\n",
       "      <td>90.457</td>\n",
       "      <td>98.3466</td>\n",
       "    </tr>\n",
       "    <tr>\n",
       "      <th>1</th>\n",
       "      <td>England</td>\n",
       "      <td>E92000001</td>\n",
       "      <td>North East</td>\n",
       "      <td>E12000001</td>\n",
       "      <td>Hartlepool</td>\n",
       "      <td>Hartlepool</td>\n",
       "      <td>E06000001</td>\n",
       "      <td>2005</td>\n",
       "      <td>Agriculture</td>\n",
       "      <td>Agriculture Electricity</td>\n",
       "      <td>CH4</td>\n",
       "      <td>0.052700</td>\n",
       "      <td>0.000000</td>\n",
       "      <td>90.457</td>\n",
       "      <td>98.3466</td>\n",
       "    </tr>\n",
       "    <tr>\n",
       "      <th>2</th>\n",
       "      <td>England</td>\n",
       "      <td>E92000001</td>\n",
       "      <td>North East</td>\n",
       "      <td>E12000001</td>\n",
       "      <td>Hartlepool</td>\n",
       "      <td>Hartlepool</td>\n",
       "      <td>E06000001</td>\n",
       "      <td>2005</td>\n",
       "      <td>Agriculture</td>\n",
       "      <td>Agriculture Electricity</td>\n",
       "      <td>N2O</td>\n",
       "      <td>0.006770</td>\n",
       "      <td>0.000000</td>\n",
       "      <td>90.457</td>\n",
       "      <td>98.3466</td>\n",
       "    </tr>\n",
       "    <tr>\n",
       "      <th>3</th>\n",
       "      <td>England</td>\n",
       "      <td>E92000001</td>\n",
       "      <td>North East</td>\n",
       "      <td>E12000001</td>\n",
       "      <td>Hartlepool</td>\n",
       "      <td>Hartlepool</td>\n",
       "      <td>E06000001</td>\n",
       "      <td>2005</td>\n",
       "      <td>Agriculture</td>\n",
       "      <td>Agriculture Gas</td>\n",
       "      <td>CO2</td>\n",
       "      <td>0.311375</td>\n",
       "      <td>0.311375</td>\n",
       "      <td>90.457</td>\n",
       "      <td>98.3466</td>\n",
       "    </tr>\n",
       "    <tr>\n",
       "      <th>4</th>\n",
       "      <td>England</td>\n",
       "      <td>E92000001</td>\n",
       "      <td>North East</td>\n",
       "      <td>E12000001</td>\n",
       "      <td>Hartlepool</td>\n",
       "      <td>Hartlepool</td>\n",
       "      <td>E06000001</td>\n",
       "      <td>2005</td>\n",
       "      <td>Agriculture</td>\n",
       "      <td>Agriculture Gas</td>\n",
       "      <td>CH4</td>\n",
       "      <td>0.010500</td>\n",
       "      <td>0.000000</td>\n",
       "      <td>90.457</td>\n",
       "      <td>98.3466</td>\n",
       "    </tr>\n",
       "  </tbody>\n",
       "</table>\n",
       "</div>"
      ],
      "text/plain": [
       "   Country Country Code      Region Region Code Second Tier Authority  \\\n",
       "0  England    E92000001  North East   E12000001            Hartlepool   \n",
       "1  England    E92000001  North East   E12000001            Hartlepool   \n",
       "2  England    E92000001  North East   E12000001            Hartlepool   \n",
       "3  England    E92000001  North East   E12000001            Hartlepool   \n",
       "4  England    E92000001  North East   E12000001            Hartlepool   \n",
       "\n",
       "  Local Authority Local Authority Code  Calendar Year LA GHG Sector  \\\n",
       "0      Hartlepool            E06000001           2005   Agriculture   \n",
       "1      Hartlepool            E06000001           2005   Agriculture   \n",
       "2      Hartlepool            E06000001           2005   Agriculture   \n",
       "3      Hartlepool            E06000001           2005   Agriculture   \n",
       "4      Hartlepool            E06000001           2005   Agriculture   \n",
       "\n",
       "         LA GHG Sub-sector Greenhouse gas  Territorial emissions (kt CO2e)  \\\n",
       "0  Agriculture Electricity            CO2                         1.678178   \n",
       "1  Agriculture Electricity            CH4                         0.052700   \n",
       "2  Agriculture Electricity            N2O                         0.006770   \n",
       "3          Agriculture Gas            CO2                         0.311375   \n",
       "4          Agriculture Gas            CH4                         0.010500   \n",
       "\n",
       "   CO2 emissions within the scope of influence of LAs (kt CO2)  \\\n",
       "0                                           1.678178             \n",
       "1                                           0.000000             \n",
       "2                                           0.000000             \n",
       "3                                           0.311375             \n",
       "4                                           0.000000             \n",
       "\n",
       "   Mid-year Population (thousands)  Area (km2)  \n",
       "0                           90.457     98.3466  \n",
       "1                           90.457     98.3466  \n",
       "2                           90.457     98.3466  \n",
       "3                           90.457     98.3466  \n",
       "4                           90.457     98.3466  "
      ]
     },
     "execution_count": 17,
     "metadata": {},
     "output_type": "execute_result"
    }
   ],
   "source": [
    "# Checking if the Unnamed: 0 column was removed\n",
    "df.head()"
   ]
  },
  {
   "cell_type": "code",
   "execution_count": 18,
   "id": "986e564c-dc9d-442b-bbec-09974d8faddc",
   "metadata": {},
   "outputs": [],
   "source": [
    "# Creating a subset with only Calendar Year and Territorial emissions (kt CO2e) columns\n",
    "df_sub = df[['Calendar Year', 'Territorial emissions (kt CO2e)']]"
   ]
  },
  {
   "cell_type": "code",
   "execution_count": 19,
   "id": "d5315ff2-8431-4837-aee1-a3605db05e7f",
   "metadata": {},
   "outputs": [
    {
     "data": {
      "text/html": [
       "<div>\n",
       "<style scoped>\n",
       "    .dataframe tbody tr th:only-of-type {\n",
       "        vertical-align: middle;\n",
       "    }\n",
       "\n",
       "    .dataframe tbody tr th {\n",
       "        vertical-align: top;\n",
       "    }\n",
       "\n",
       "    .dataframe thead th {\n",
       "        text-align: right;\n",
       "    }\n",
       "</style>\n",
       "<table border=\"1\" class=\"dataframe\">\n",
       "  <thead>\n",
       "    <tr style=\"text-align: right;\">\n",
       "      <th></th>\n",
       "      <th>Calendar Year</th>\n",
       "      <th>Territorial emissions (kt CO2e)</th>\n",
       "    </tr>\n",
       "  </thead>\n",
       "  <tbody>\n",
       "    <tr>\n",
       "      <th>0</th>\n",
       "      <td>2005</td>\n",
       "      <td>1.678178</td>\n",
       "    </tr>\n",
       "    <tr>\n",
       "      <th>1</th>\n",
       "      <td>2005</td>\n",
       "      <td>0.052700</td>\n",
       "    </tr>\n",
       "    <tr>\n",
       "      <th>2</th>\n",
       "      <td>2005</td>\n",
       "      <td>0.006770</td>\n",
       "    </tr>\n",
       "    <tr>\n",
       "      <th>3</th>\n",
       "      <td>2005</td>\n",
       "      <td>0.311375</td>\n",
       "    </tr>\n",
       "    <tr>\n",
       "      <th>4</th>\n",
       "      <td>2005</td>\n",
       "      <td>0.010500</td>\n",
       "    </tr>\n",
       "  </tbody>\n",
       "</table>\n",
       "</div>"
      ],
      "text/plain": [
       "   Calendar Year  Territorial emissions (kt CO2e)\n",
       "0           2005                         1.678178\n",
       "1           2005                         0.052700\n",
       "2           2005                         0.006770\n",
       "3           2005                         0.311375\n",
       "4           2005                         0.010500"
      ]
     },
     "execution_count": 19,
     "metadata": {},
     "output_type": "execute_result"
    }
   ],
   "source": [
    "# Viewing the first five rows of df_sub\n",
    "df_sub.head()"
   ]
  },
  {
   "cell_type": "code",
   "execution_count": 20,
   "id": "4c780fd4-0196-4cb2-a84a-59c00df05ce4",
   "metadata": {},
   "outputs": [],
   "source": [
    "# Grouping emissions by Calendar Year\n",
    "df_sub = df_sub.groupby('Calendar Year')['Territorial emissions (kt CO2e)'].sum().reset_index()"
   ]
  },
  {
   "cell_type": "code",
   "execution_count": 21,
   "id": "4c0bc9c5-d05a-48b3-98e4-9f9ef0299912",
   "metadata": {},
   "outputs": [
    {
     "data": {
      "text/html": [
       "<div>\n",
       "<style scoped>\n",
       "    .dataframe tbody tr th:only-of-type {\n",
       "        vertical-align: middle;\n",
       "    }\n",
       "\n",
       "    .dataframe tbody tr th {\n",
       "        vertical-align: top;\n",
       "    }\n",
       "\n",
       "    .dataframe thead th {\n",
       "        text-align: right;\n",
       "    }\n",
       "</style>\n",
       "<table border=\"1\" class=\"dataframe\">\n",
       "  <thead>\n",
       "    <tr style=\"text-align: right;\">\n",
       "      <th></th>\n",
       "      <th>Calendar Year</th>\n",
       "      <th>Territorial emissions (kt CO2e)</th>\n",
       "    </tr>\n",
       "  </thead>\n",
       "  <tbody>\n",
       "    <tr>\n",
       "      <th>0</th>\n",
       "      <td>2005</td>\n",
       "      <td>656037.507441</td>\n",
       "    </tr>\n",
       "    <tr>\n",
       "      <th>1</th>\n",
       "      <td>2006</td>\n",
       "      <td>648793.169593</td>\n",
       "    </tr>\n",
       "    <tr>\n",
       "      <th>2</th>\n",
       "      <td>2007</td>\n",
       "      <td>634140.214106</td>\n",
       "    </tr>\n",
       "    <tr>\n",
       "      <th>3</th>\n",
       "      <td>2008</td>\n",
       "      <td>613358.356753</td>\n",
       "    </tr>\n",
       "    <tr>\n",
       "      <th>4</th>\n",
       "      <td>2009</td>\n",
       "      <td>557708.437966</td>\n",
       "    </tr>\n",
       "    <tr>\n",
       "      <th>5</th>\n",
       "      <td>2010</td>\n",
       "      <td>570423.432600</td>\n",
       "    </tr>\n",
       "    <tr>\n",
       "      <th>6</th>\n",
       "      <td>2011</td>\n",
       "      <td>525197.321435</td>\n",
       "    </tr>\n",
       "    <tr>\n",
       "      <th>7</th>\n",
       "      <td>2012</td>\n",
       "      <td>543585.676016</td>\n",
       "    </tr>\n",
       "    <tr>\n",
       "      <th>8</th>\n",
       "      <td>2013</td>\n",
       "      <td>530616.846029</td>\n",
       "    </tr>\n",
       "    <tr>\n",
       "      <th>9</th>\n",
       "      <td>2014</td>\n",
       "      <td>490885.394905</td>\n",
       "    </tr>\n",
       "    <tr>\n",
       "      <th>10</th>\n",
       "      <td>2015</td>\n",
       "      <td>474545.941271</td>\n",
       "    </tr>\n",
       "    <tr>\n",
       "      <th>11</th>\n",
       "      <td>2016</td>\n",
       "      <td>447282.727278</td>\n",
       "    </tr>\n",
       "    <tr>\n",
       "      <th>12</th>\n",
       "      <td>2017</td>\n",
       "      <td>436230.089956</td>\n",
       "    </tr>\n",
       "    <tr>\n",
       "      <th>13</th>\n",
       "      <td>2018</td>\n",
       "      <td>430915.817829</td>\n",
       "    </tr>\n",
       "    <tr>\n",
       "      <th>14</th>\n",
       "      <td>2019</td>\n",
       "      <td>417068.094498</td>\n",
       "    </tr>\n",
       "    <tr>\n",
       "      <th>15</th>\n",
       "      <td>2020</td>\n",
       "      <td>377286.604410</td>\n",
       "    </tr>\n",
       "    <tr>\n",
       "      <th>16</th>\n",
       "      <td>2021</td>\n",
       "      <td>395938.683608</td>\n",
       "    </tr>\n",
       "    <tr>\n",
       "      <th>17</th>\n",
       "      <td>2022</td>\n",
       "      <td>375929.282463</td>\n",
       "    </tr>\n",
       "  </tbody>\n",
       "</table>\n",
       "</div>"
      ],
      "text/plain": [
       "    Calendar Year  Territorial emissions (kt CO2e)\n",
       "0            2005                    656037.507441\n",
       "1            2006                    648793.169593\n",
       "2            2007                    634140.214106\n",
       "3            2008                    613358.356753\n",
       "4            2009                    557708.437966\n",
       "5            2010                    570423.432600\n",
       "6            2011                    525197.321435\n",
       "7            2012                    543585.676016\n",
       "8            2013                    530616.846029\n",
       "9            2014                    490885.394905\n",
       "10           2015                    474545.941271\n",
       "11           2016                    447282.727278\n",
       "12           2017                    436230.089956\n",
       "13           2018                    430915.817829\n",
       "14           2019                    417068.094498\n",
       "15           2020                    377286.604410\n",
       "16           2021                    395938.683608\n",
       "17           2022                    375929.282463"
      ]
     },
     "execution_count": 21,
     "metadata": {},
     "output_type": "execute_result"
    }
   ],
   "source": [
    "# Viewing df_sub\n",
    "df_sub"
   ]
  },
  {
   "cell_type": "code",
   "execution_count": 35,
   "id": "ff534633-31ba-4547-9d27-b15d37b3adcb",
   "metadata": {},
   "outputs": [
    {
     "data": {
      "text/html": [
       "<div>\n",
       "<style scoped>\n",
       "    .dataframe tbody tr th:only-of-type {\n",
       "        vertical-align: middle;\n",
       "    }\n",
       "\n",
       "    .dataframe tbody tr th {\n",
       "        vertical-align: top;\n",
       "    }\n",
       "\n",
       "    .dataframe thead th {\n",
       "        text-align: right;\n",
       "    }\n",
       "</style>\n",
       "<table border=\"1\" class=\"dataframe\">\n",
       "  <thead>\n",
       "    <tr style=\"text-align: right;\">\n",
       "      <th></th>\n",
       "      <th>Territorial emissions (kt CO2e)</th>\n",
       "    </tr>\n",
       "    <tr>\n",
       "      <th>datetime</th>\n",
       "      <th></th>\n",
       "    </tr>\n",
       "  </thead>\n",
       "  <tbody>\n",
       "    <tr>\n",
       "      <th>2005-01-01</th>\n",
       "      <td>656037.507441</td>\n",
       "    </tr>\n",
       "    <tr>\n",
       "      <th>2006-01-01</th>\n",
       "      <td>648793.169593</td>\n",
       "    </tr>\n",
       "    <tr>\n",
       "      <th>2007-01-01</th>\n",
       "      <td>634140.214106</td>\n",
       "    </tr>\n",
       "    <tr>\n",
       "      <th>2008-01-01</th>\n",
       "      <td>613358.356753</td>\n",
       "    </tr>\n",
       "    <tr>\n",
       "      <th>2009-01-01</th>\n",
       "      <td>557708.437966</td>\n",
       "    </tr>\n",
       "  </tbody>\n",
       "</table>\n",
       "</div>"
      ],
      "text/plain": [
       "            Territorial emissions (kt CO2e)\n",
       "datetime                                   \n",
       "2005-01-01                    656037.507441\n",
       "2006-01-01                    648793.169593\n",
       "2007-01-01                    634140.214106\n",
       "2008-01-01                    613358.356753\n",
       "2009-01-01                    557708.437966"
      ]
     },
     "execution_count": 35,
     "metadata": {},
     "output_type": "execute_result"
    }
   ],
   "source": [
    "# Setting the Calendar Year column as the index\n",
    "from datetime import datetime\n",
    "df_sub['datetime'] = pd.to_datetime(df_sub['Calendar Year'], format='%Y')\n",
    "df_sub = df_sub.set_index('datetime')\n",
    "df_sub.drop(['Calendar Year'], axis=1, inplace=True)\n",
    "df_sub.head()"
   ]
  },
  {
   "cell_type": "code",
   "execution_count": 37,
   "id": "f91d0a26-04c4-4e3e-b246-bbf559466816",
   "metadata": {},
   "outputs": [
    {
     "data": {
      "text/html": [
       "<div>\n",
       "<style scoped>\n",
       "    .dataframe tbody tr th:only-of-type {\n",
       "        vertical-align: middle;\n",
       "    }\n",
       "\n",
       "    .dataframe tbody tr th {\n",
       "        vertical-align: top;\n",
       "    }\n",
       "\n",
       "    .dataframe thead th {\n",
       "        text-align: right;\n",
       "    }\n",
       "</style>\n",
       "<table border=\"1\" class=\"dataframe\">\n",
       "  <thead>\n",
       "    <tr style=\"text-align: right;\">\n",
       "      <th></th>\n",
       "      <th>Territorial emissions (kt CO2e)</th>\n",
       "    </tr>\n",
       "    <tr>\n",
       "      <th>datetime</th>\n",
       "      <th></th>\n",
       "    </tr>\n",
       "  </thead>\n",
       "  <tbody>\n",
       "    <tr>\n",
       "      <th>2005-01-01</th>\n",
       "      <td>656037.507441</td>\n",
       "    </tr>\n",
       "    <tr>\n",
       "      <th>2006-01-01</th>\n",
       "      <td>648793.169593</td>\n",
       "    </tr>\n",
       "    <tr>\n",
       "      <th>2007-01-01</th>\n",
       "      <td>634140.214106</td>\n",
       "    </tr>\n",
       "    <tr>\n",
       "      <th>2008-01-01</th>\n",
       "      <td>613358.356753</td>\n",
       "    </tr>\n",
       "    <tr>\n",
       "      <th>2009-01-01</th>\n",
       "      <td>557708.437966</td>\n",
       "    </tr>\n",
       "    <tr>\n",
       "      <th>2010-01-01</th>\n",
       "      <td>570423.432600</td>\n",
       "    </tr>\n",
       "    <tr>\n",
       "      <th>2011-01-01</th>\n",
       "      <td>525197.321435</td>\n",
       "    </tr>\n",
       "    <tr>\n",
       "      <th>2012-01-01</th>\n",
       "      <td>543585.676016</td>\n",
       "    </tr>\n",
       "    <tr>\n",
       "      <th>2013-01-01</th>\n",
       "      <td>530616.846029</td>\n",
       "    </tr>\n",
       "    <tr>\n",
       "      <th>2014-01-01</th>\n",
       "      <td>490885.394905</td>\n",
       "    </tr>\n",
       "    <tr>\n",
       "      <th>2015-01-01</th>\n",
       "      <td>474545.941271</td>\n",
       "    </tr>\n",
       "    <tr>\n",
       "      <th>2016-01-01</th>\n",
       "      <td>447282.727278</td>\n",
       "    </tr>\n",
       "    <tr>\n",
       "      <th>2017-01-01</th>\n",
       "      <td>436230.089956</td>\n",
       "    </tr>\n",
       "    <tr>\n",
       "      <th>2018-01-01</th>\n",
       "      <td>430915.817829</td>\n",
       "    </tr>\n",
       "    <tr>\n",
       "      <th>2019-01-01</th>\n",
       "      <td>417068.094498</td>\n",
       "    </tr>\n",
       "    <tr>\n",
       "      <th>2020-01-01</th>\n",
       "      <td>377286.604410</td>\n",
       "    </tr>\n",
       "    <tr>\n",
       "      <th>2021-01-01</th>\n",
       "      <td>395938.683608</td>\n",
       "    </tr>\n",
       "    <tr>\n",
       "      <th>2022-01-01</th>\n",
       "      <td>375929.282463</td>\n",
       "    </tr>\n",
       "  </tbody>\n",
       "</table>\n",
       "</div>"
      ],
      "text/plain": [
       "            Territorial emissions (kt CO2e)\n",
       "datetime                                   \n",
       "2005-01-01                    656037.507441\n",
       "2006-01-01                    648793.169593\n",
       "2007-01-01                    634140.214106\n",
       "2008-01-01                    613358.356753\n",
       "2009-01-01                    557708.437966\n",
       "2010-01-01                    570423.432600\n",
       "2011-01-01                    525197.321435\n",
       "2012-01-01                    543585.676016\n",
       "2013-01-01                    530616.846029\n",
       "2014-01-01                    490885.394905\n",
       "2015-01-01                    474545.941271\n",
       "2016-01-01                    447282.727278\n",
       "2017-01-01                    436230.089956\n",
       "2018-01-01                    430915.817829\n",
       "2019-01-01                    417068.094498\n",
       "2020-01-01                    377286.604410\n",
       "2021-01-01                    395938.683608\n",
       "2022-01-01                    375929.282463"
      ]
     },
     "execution_count": 37,
     "metadata": {},
     "output_type": "execute_result"
    }
   ],
   "source": [
    "# Viewing df_sub\n",
    "df_sub"
   ]
  },
  {
   "cell_type": "markdown",
   "id": "c526b4a1-75e8-458a-9254-c101ff96ea6d",
   "metadata": {},
   "source": [
    "I created a subset of the original dataframe to included only the Calendar Year and Territorial emissions (kt CO2e) columns. I did not exclude any data points or any years/dates from the Calendar Year column."
   ]
  },
  {
   "cell_type": "code",
   "execution_count": 40,
   "id": "b72349ee-b0d0-468f-b44c-452bf32cbc97",
   "metadata": {},
   "outputs": [
    {
     "data": {
      "text/plain": [
       "Territorial emissions (kt CO2e)    0\n",
       "dtype: int64"
      ]
     },
     "execution_count": 40,
     "metadata": {},
     "output_type": "execute_result"
    }
   ],
   "source": [
    "# Checking for missing values\n",
    "df_sub.isnull().sum() "
   ]
  },
  {
   "cell_type": "code",
   "execution_count": 42,
   "id": "13aca770-2d1a-4d22-ac56-3ada40f61082",
   "metadata": {},
   "outputs": [],
   "source": [
    "# Checking for mixed-type data\n",
    "for col in df_sub.columns.tolist():\n",
    "  weird = (df_sub[[col]].applymap(type) != df_sub[[col]].iloc[0].apply(type)).any(axis = 1)\n",
    "  if len (df_sub[weird]) > 0:\n",
    "    print (col)"
   ]
  },
  {
   "cell_type": "code",
   "execution_count": 44,
   "id": "53bc18a7-a12b-442d-92cd-7e2791c3ca0c",
   "metadata": {},
   "outputs": [],
   "source": [
    "# Creating the df_dups subset to check for duplicates\n",
    "df_dups = df_sub[df_sub.duplicated()]"
   ]
  },
  {
   "cell_type": "code",
   "execution_count": 46,
   "id": "6ca74b81-1e5f-479a-9569-955ca1d084cc",
   "metadata": {},
   "outputs": [
    {
     "data": {
      "text/html": [
       "<div>\n",
       "<style scoped>\n",
       "    .dataframe tbody tr th:only-of-type {\n",
       "        vertical-align: middle;\n",
       "    }\n",
       "\n",
       "    .dataframe tbody tr th {\n",
       "        vertical-align: top;\n",
       "    }\n",
       "\n",
       "    .dataframe thead th {\n",
       "        text-align: right;\n",
       "    }\n",
       "</style>\n",
       "<table border=\"1\" class=\"dataframe\">\n",
       "  <thead>\n",
       "    <tr style=\"text-align: right;\">\n",
       "      <th></th>\n",
       "      <th>Territorial emissions (kt CO2e)</th>\n",
       "    </tr>\n",
       "    <tr>\n",
       "      <th>datetime</th>\n",
       "      <th></th>\n",
       "    </tr>\n",
       "  </thead>\n",
       "  <tbody>\n",
       "  </tbody>\n",
       "</table>\n",
       "</div>"
      ],
      "text/plain": [
       "Empty DataFrame\n",
       "Columns: [Territorial emissions (kt CO2e)]\n",
       "Index: []"
      ]
     },
     "execution_count": 46,
     "metadata": {},
     "output_type": "execute_result"
    }
   ],
   "source": [
    "# Viewing df_dups\n",
    "df_dups"
   ]
  },
  {
   "cell_type": "code",
   "execution_count": 48,
   "id": "773b8e79-fb33-4546-93d0-25b274547477",
   "metadata": {},
   "outputs": [
    {
     "data": {
      "text/plain": [
       "[<matplotlib.lines.Line2D at 0x20d23607800>]"
      ]
     },
     "execution_count": 48,
     "metadata": {},
     "output_type": "execute_result"
    },
    {
     "data": {
      "image/png": "[encoded data removed]",
      "text/plain": [
       "<Figure size 1500x500 with 1 Axes>"
      ]
     },
     "metadata": {},
     "output_type": "display_data"
    }
   ],
   "source": [
    "# Creating a line chart of the data\n",
    "plt.figure(figsize=(15,5), dpi=100)\n",
    "plt.plot(df_sub)"
   ]
  },
  {
   "cell_type": "markdown",
   "id": "8e1b2d73-d3c3-4401-a6c4-3d23972e8e1f",
   "metadata": {},
   "source": [
    "#### 4. Decomposition"
   ]
  },
  {
   "cell_type": "code",
   "execution_count": 53,
   "id": "e05b3102-052c-41d3-9074-723b98dc10f8",
   "metadata": {},
   "outputs": [],
   "source": [
    "# Decomposing the time series using an additive model\n",
    "decomposition = sm.tsa.seasonal_decompose(df_sub, model='additive')"
   ]
  },
  {
   "cell_type": "code",
   "execution_count": 55,
   "id": "4fff78e1-c916-4558-90c1-1e14ef48d050",
   "metadata": {},
   "outputs": [],
   "source": [
    "# Setting a fixed size for the chart\n",
    "from pylab import rcParams\n",
    "rcParams['figure.figsize'] = 18, 7"
   ]
  },
  {
   "cell_type": "code",
   "execution_count": 57,
   "id": "31752f14-1df1-480f-8653-5d10f8de0f47",
   "metadata": {},
   "outputs": [
    {
     "data": {
      "image/png": "[encoded data removed]",
      "text/plain": [
       "<Figure size 1800x700 with 4 Axes>"
      ]
     },
     "metadata": {},
     "output_type": "display_data"
    }
   ],
   "source": [
    "# Plotting the separate time series components on a chart\n",
    "decomposition.plot()\n",
    "plt.show()"
   ]
  },
  {
   "cell_type": "markdown",
   "id": "af6b34b5-f6f1-4082-981d-ed45fc42187f",
   "metadata": {},
   "source": [
    "Results of the decomposition:\n",
    "- The level (first chart) and the trend are the same, which means that the data does not have much noise.\n",
    "- The trend is a linear drop overtime with three slight increases, once in 2010, once in 2012, and once in 2021. Overall, the trend is dominant as it decreases from 2005 (the beginning) to 2022 (the end).\n",
    "- The seasonality is completely flat, meaning that there is no seasonality in the data. One reason for this is that the data is collected yearly, so it is very difficult to see how the territorial emissions change throughout the year, which would be easier to see if the data was collected weekly or monthly.\n",
    "- The residual is completely flat, meaning that there is no unexplained noise in the data."
   ]
  },
  {
   "cell_type": "markdown",
   "id": "40820fe2-97eb-401c-9402-943e2d28fa58",
   "metadata": {},
   "source": [
    "#### 5. Dickey-Fuller test for stationarity"
   ]
  },
  {
   "cell_type": "markdown",
   "id": "9ed92c64-0344-4240-bbf0-1d325bfd11e9",
   "metadata": {},
   "source": [
    "Defining the alternative and null hypotheses:\n",
    "- Alternative hypothesis: A unit root is not present in the data.\n",
    "- Null hypothesis: A unit root is present in the data."
   ]
  },
  {
   "cell_type": "code",
   "execution_count": 65,
   "id": "46f0e1f2-6bac-4179-901c-89e48b003b5d",
   "metadata": {},
   "outputs": [
    {
     "name": "stdout",
     "output_type": "stream",
     "text": [
      "Dickey-Fuller Stationarity test:\n",
      "Test Statistic                 -0.808208\n",
      "p-value                         0.816699\n",
      "Number of Lags Used             0.000000\n",
      "Number of Observations Used    17.000000\n",
      "Critical Value (1%)            -3.889266\n",
      "Critical Value (5%)            -3.054358\n",
      "Critical Value (10%)           -2.666984\n",
      "dtype: float64\n"
     ]
    }
   ],
   "source": [
    "# Importing the adfuller function and running the Dickey-Fuller test for stationarity\n",
    "from statsmodels.tsa.stattools import adfuller\n",
    "def dickey_fuller(timeseries):\n",
    "    print ('Dickey-Fuller Stationarity test:')\n",
    "    test = adfuller(timeseries, autolag='AIC')\n",
    "    result = pd.Series(test[0:4], index=['Test Statistic','p-value','Number of Lags Used','Number of Observations Used'])\n",
    "    for key,value in test[4].items():\n",
    "       result['Critical Value (%s)'%key] = value\n",
    "    print (result)\n",
    "dickey_fuller(df_sub['Territorial emissions (kt CO2e)'])"
   ]
  },
  {
   "cell_type": "markdown",
   "id": "3ffb96eb-94d6-42ff-b1af-4e9187f5f5dd",
   "metadata": {},
   "source": [
    "Results of Dickey-Fuller test:\n",
    "- The test statistic of -0.808208 is larger than the critical value (5%) of -3.054358, using a significance level of 5%, which means that the null hypothesis cannot be rejected.\n",
    "- The test statistic being larger than the critical value (5%) means that a unit root is present in the data and the data is non-stationary."
   ]
  },
  {
   "cell_type": "markdown",
   "id": "a6dbecff-eb43-41ba-a610-ca8e7b3ecceb",
   "metadata": {},
   "source": [
    "#### 6. Differencing to stationarize data"
   ]
  },
  {
   "cell_type": "code",
   "execution_count": 70,
   "id": "b5f14805-439e-44ca-840a-56db66fe3483",
   "metadata": {},
   "outputs": [],
   "source": [
    "# Creating the df_diff dataframe\n",
    "df_diff = df_sub - df_sub.shift(1)"
   ]
  },
  {
   "cell_type": "code",
   "execution_count": 72,
   "id": "ec269903-13a6-4f57-beb6-e4bbc4602ecd",
   "metadata": {},
   "outputs": [],
   "source": [
    "# Removing the missing values that resulted from differencing\n",
    "df_diff.dropna(inplace = True)"
   ]
  },
  {
   "cell_type": "code",
   "execution_count": 74,
   "id": "111dfe42-caa4-4200-8322-84caa0f04200",
   "metadata": {},
   "outputs": [
    {
     "data": {
      "text/html": [
       "<div>\n",
       "<style scoped>\n",
       "    .dataframe tbody tr th:only-of-type {\n",
       "        vertical-align: middle;\n",
       "    }\n",
       "\n",
       "    .dataframe tbody tr th {\n",
       "        vertical-align: top;\n",
       "    }\n",
       "\n",
       "    .dataframe thead th {\n",
       "        text-align: right;\n",
       "    }\n",
       "</style>\n",
       "<table border=\"1\" class=\"dataframe\">\n",
       "  <thead>\n",
       "    <tr style=\"text-align: right;\">\n",
       "      <th></th>\n",
       "      <th>Territorial emissions (kt CO2e)</th>\n",
       "    </tr>\n",
       "    <tr>\n",
       "      <th>datetime</th>\n",
       "      <th></th>\n",
       "    </tr>\n",
       "  </thead>\n",
       "  <tbody>\n",
       "    <tr>\n",
       "      <th>2006-01-01</th>\n",
       "      <td>-7244.337847</td>\n",
       "    </tr>\n",
       "    <tr>\n",
       "      <th>2007-01-01</th>\n",
       "      <td>-14652.955487</td>\n",
       "    </tr>\n",
       "    <tr>\n",
       "      <th>2008-01-01</th>\n",
       "      <td>-20781.857353</td>\n",
       "    </tr>\n",
       "    <tr>\n",
       "      <th>2009-01-01</th>\n",
       "      <td>-55649.918787</td>\n",
       "    </tr>\n",
       "    <tr>\n",
       "      <th>2010-01-01</th>\n",
       "      <td>12714.994633</td>\n",
       "    </tr>\n",
       "  </tbody>\n",
       "</table>\n",
       "</div>"
      ],
      "text/plain": [
       "            Territorial emissions (kt CO2e)\n",
       "datetime                                   \n",
       "2006-01-01                     -7244.337847\n",
       "2007-01-01                    -14652.955487\n",
       "2008-01-01                    -20781.857353\n",
       "2009-01-01                    -55649.918787\n",
       "2010-01-01                     12714.994633"
      ]
     },
     "execution_count": 74,
     "metadata": {},
     "output_type": "execute_result"
    }
   ],
   "source": [
    "# Viewing the first five rows of df_diff\n",
    "df_diff.head()"
   ]
  },
  {
   "cell_type": "code",
   "execution_count": 76,
   "id": "ce751aa4-e178-4f0e-8d70-76ae31f3281b",
   "metadata": {},
   "outputs": [
    {
     "data": {
      "text/plain": [
       "[<matplotlib.lines.Line2D at 0x20d26cae390>]"
      ]
     },
     "execution_count": 76,
     "metadata": {},
     "output_type": "execute_result"
    },
    {
     "data": {
      "image/png": "[encoded data removed]",
      "text/plain": [
       "<Figure size 1500x500 with 1 Axes>"
      ]
     },
     "metadata": {},
     "output_type": "display_data"
    }
   ],
   "source": [
    "# Plotting the time series curve\n",
    "plt.figure(figsize=(15,5), dpi=100)\n",
    "plt.plot(df_diff)"
   ]
  },
  {
   "cell_type": "code",
   "execution_count": 78,
   "id": "045019f2-af1a-4daf-ba21-3956615f0f65",
   "metadata": {},
   "outputs": [
    {
     "name": "stdout",
     "output_type": "stream",
     "text": [
      "Dickey-Fuller Stationarity test:\n",
      "Test Statistic                 -3.487006\n",
      "p-value                         0.008327\n",
      "Number of Lags Used             1.000000\n",
      "Number of Observations Used    15.000000\n",
      "Critical Value (1%)            -3.964443\n",
      "Critical Value (5%)            -3.084908\n",
      "Critical Value (10%)           -2.681814\n",
      "dtype: float64\n"
     ]
    }
   ],
   "source": [
    "# Running the Dickey-Fuller test on df_diff\n",
    "dickey_fuller(df_diff)"
   ]
  },
  {
   "cell_type": "markdown",
   "id": "183e67bd-7ad5-4c37-90ed-7f2c3f0273af",
   "metadata": {},
   "source": [
    "Results of the Dickey-Fuller test:\n",
    "- The test statistic of -3.487006 is smaller than the critical value (5%) of -3.084908, using a significance level of 5%, which means that the null hypothesis can be rejected.\n",
    "- The test statistic being smaller than the critical value (5%) means that a unit root is not present in the data and the data is stationary."
   ]
  },
  {
   "cell_type": "markdown",
   "id": "27f261d0-2b10-4cfb-9769-6480c6948348",
   "metadata": {},
   "source": [
    "#### 7. Checking for autocorrelations"
   ]
  },
  {
   "cell_type": "code",
   "execution_count": 86,
   "id": "d4d8c51c-7b4f-43ce-bf3b-f33fd5d8b3c1",
   "metadata": {},
   "outputs": [
    {
     "data": {
      "image/png": "[encoded data removed]",
      "text/plain": [
       "<Figure size 1800x700 with 1 Axes>"
      ]
     },
     "metadata": {},
     "output_type": "display_data"
    }
   ],
   "source": [
    "# Creating a plot to check for autocorrelations\n",
    "from statsmodels.graphics.tsaplots import plot_acf, plot_pacf\n",
    "plot_acf(df_diff)\n",
    "plt.show()"
   ]
  },
  {
   "cell_type": "markdown",
   "id": "38c7b690-78aa-468a-b45e-0761a49882ea",
   "metadata": {},
   "source": [
    "Since there are only two lags that are above the confidence interval, it can be concluded that the data is stationary, and that another round of differencing is not required."
   ]
  }
 ],
 "metadata": {
  "kernelspec": {
   "display_name": "Python [conda env:base] *",
   "language": "python",
   "name": "conda-base-py"
  },
  "language_info": {
   "codemirror_mode": {
    "name": "ipython",
    "version": 3
   },
   "file_extension": ".py",
   "mimetype": "text/x-python",
   "name": "python",
   "nbconvert_exporter": "python",
   "pygments_lexer": "ipython3",
   "version": "3.12.7"
  }
 },
 "nbformat": 4,
 "nbformat_minor": 5
}
